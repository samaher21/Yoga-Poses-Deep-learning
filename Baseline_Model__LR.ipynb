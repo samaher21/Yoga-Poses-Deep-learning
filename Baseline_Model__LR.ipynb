{
 "cells": [
  {
   "cell_type": "markdown",
   "id": "cc64a357",
   "metadata": {},
   "source": [
    "## Setup\n",
    "- Importing libraries and packages"
   ]
  },
  {
   "cell_type": "code",
   "execution_count": 1,
   "id": "1576e87d",
   "metadata": {},
   "outputs": [],
   "source": [
    "import os\n",
    "import cv2\n",
    "import skimage\n",
    "import numpy                    as np\n",
    "from skimage.transform          import resize\n",
    "from sklearn.linear_model       import LogisticRegression\n",
    "from sklearn.model_selection    import train_test_split\n"
   ]
  },
  {
   "cell_type": "markdown",
   "id": "64daa293",
   "metadata": {},
   "source": [
    "## Baseline Model\n",
    "### - Logistic Regression"
   ]
  },
  {
   "cell_type": "code",
   "execution_count": 2,
   "id": "8f8b3a49",
   "metadata": {},
   "outputs": [],
   "source": [
    "batch_size = 64\n",
    "imageSize = 64\n",
    "target_dims = (imageSize, imageSize, 3)\n",
    "num_classes = 5\n",
    "train_len = 3393\n",
    "train_dir = 'yoga_poses/dataset/yoga_set1/train/'"
   ]
  },
  {
   "cell_type": "code",
   "execution_count": 3,
   "id": "f1011479",
   "metadata": {},
   "outputs": [
    {
     "name": "stderr",
     "output_type": "stream",
     "text": [
      "/var/folders/cq/s_bs9nmn2y12ltcwydm78mpr0000gn/T/ipykernel_36754/2940791803.py:3: DeprecationWarning: `np.int` is a deprecated alias for the builtin `int`. To silence this warning, use `int` by itself. Doing this will not modify any behavior and is safe. When replacing `np.int`, you may wish to use e.g. `np.int64` or `np.int32` to specify the precision. If you wish to review your current use, check the release note link for additional information.\n",
      "Deprecated in NumPy 1.20; for more details and guidance: https://numpy.org/devdocs/release/1.20.0-notes.html#deprecations\n",
      "  y = np.empty((train_len,), dtype=np.int)\n",
      "Premature end of JPEG file\n",
      "Corrupt JPEG data: premature end of data segment\n"
     ]
    }
   ],
   "source": [
    "def get_data(folder):\n",
    "    X = np.empty((train_len, imageSize, imageSize, 3), dtype=np.float32)\n",
    "    y = np.empty((train_len,), dtype=np.int)\n",
    "    cnt = 0\n",
    "    for folderName in os.listdir(folder):\n",
    "        if not folderName.startswith('.'):\n",
    "            if folderName in ['downdog']:\n",
    "                label = 0\n",
    "            elif folderName in ['godess']:\n",
    "                label = 1\n",
    "            elif folderName in ['mountain']:\n",
    "                label = 2\n",
    "            elif folderName in ['tree']:\n",
    "                label = 3\n",
    "            elif folderName in ['warrior1']:\n",
    "                label = 4\n",
    "            else:\n",
    "                label = 5\n",
    "            for image_filename in os.listdir(folder + folderName):\n",
    "                img_file = cv2.imread(folder + folderName + '/' + image_filename)\n",
    "                if img_file is not None:\n",
    "                    img_file = skimage.transform.resize(img_file, (imageSize, imageSize, 3))\n",
    "                    img_arr = np.asarray(img_file).reshape((-1, imageSize, imageSize, 3))\n",
    "                    X[cnt] = img_arr\n",
    "                    y[cnt] = label\n",
    "                    cnt += 1\n",
    "    return X,y\n",
    "\n",
    "X, y = get_data(train_dir)"
   ]
  },
  {
   "cell_type": "code",
   "execution_count": 4,
   "id": "0044199d",
   "metadata": {},
   "outputs": [
    {
     "data": {
      "text/plain": [
       "(3393, 12288)"
      ]
     },
     "execution_count": 4,
     "metadata": {},
     "output_type": "execute_result"
    }
   ],
   "source": [
    "#---- Reshape size of X \n",
    "X.shape\n",
    "X = X.reshape(3393, 64*64*3)\n",
    "X.shape"
   ]
  },
  {
   "cell_type": "code",
   "execution_count": 5,
   "id": "56f40f75",
   "metadata": {},
   "outputs": [],
   "source": [
    "#---- split the dataset\n",
    "X_train, X_test, y_train, y_test = train_test_split(X, y, test_size=0.2, random_state=1)\n",
    "\n",
    "X_train, X_val, y_train, y_val = train_test_split(X_train, y_train, test_size=0.25, random_state=1)"
   ]
  },
  {
   "cell_type": "code",
   "execution_count": 6,
   "id": "866b7f0b",
   "metadata": {},
   "outputs": [
    {
     "name": "stderr",
     "output_type": "stream",
     "text": [
      "/Users/saeed/opt/anaconda3/lib/python3.9/site-packages/sklearn/svm/_base.py:985: ConvergenceWarning: Liblinear failed to converge, increase the number of iterations.\n",
      "  warnings.warn(\"Liblinear failed to converge, increase \"\n"
     ]
    },
    {
     "name": "stdout",
     "output_type": "stream",
     "text": [
      "Logistic Regression Model, Accuracy (Train Set) :  0.742997542997543\n",
      "\n",
      "\n",
      "\n",
      "\n"
     ]
    },
    {
     "name": "stderr",
     "output_type": "stream",
     "text": [
      "/Users/saeed/opt/anaconda3/lib/python3.9/site-packages/sklearn/svm/_base.py:985: ConvergenceWarning: Liblinear failed to converge, increase the number of iterations.\n",
      "  warnings.warn(\"Liblinear failed to converge, increase \"\n"
     ]
    },
    {
     "name": "stdout",
     "output_type": "stream",
     "text": [
      "Logistic Regression Model, Accuracy (Val Set) :  0.7496318114874816\n",
      "\n",
      "\n",
      "\n",
      "\n",
      "Logistic Regression Model, Accuracy (Test Set) :  0.7746686303387335\n"
     ]
    },
    {
     "name": "stderr",
     "output_type": "stream",
     "text": [
      "/Users/saeed/opt/anaconda3/lib/python3.9/site-packages/sklearn/svm/_base.py:985: ConvergenceWarning: Liblinear failed to converge, increase the number of iterations.\n",
      "  warnings.warn(\"Liblinear failed to converge, increase \"\n"
     ]
    }
   ],
   "source": [
    "lr = LogisticRegression(multi_class='ovr', solver='liblinear', max_iter=15)\n",
    "\n",
    "lr.fit(X_train,y_train)\n",
    "accuracy_train_bes = lr.score(X_train, y_train)  \n",
    "print(\"Logistic Regression Model, Accuracy (Train Set) : \", accuracy_train_bes) # get accuracy on train set\n",
    "print('\\n')\n",
    "print('\\n')\n",
    "lr.fit(X_val,y_val)\n",
    "accuracy_val_bes = lr.score(X_val, y_val)  \n",
    "print(\"Logistic Regression Model, Accuracy (Val Set) : \", accuracy_val_bes) # get accuracy on val set\n",
    "print('\\n')\n",
    "print('\\n')\n",
    "lr.fit(X_test,y_test)\n",
    "accuracy_test_bes = lr.score(X_test, y_test)  \n",
    "print(\"Logistic Regression Model, Accuracy (Test Set) : \", accuracy_test_bes) # get accuracy on test set"
   ]
  },
  {
   "cell_type": "code",
   "execution_count": null,
   "id": "c8fdfc23",
   "metadata": {},
   "outputs": [],
   "source": []
  },
  {
   "cell_type": "code",
   "execution_count": null,
   "id": "5d3ee585",
   "metadata": {},
   "outputs": [],
   "source": []
  }
 ],
 "metadata": {
  "kernelspec": {
   "display_name": "Python 3 (ipykernel)",
   "language": "python",
   "name": "python3"
  },
  "language_info": {
   "codemirror_mode": {
    "name": "ipython",
    "version": 3
   },
   "file_extension": ".py",
   "mimetype": "text/x-python",
   "name": "python",
   "nbconvert_exporter": "python",
   "pygments_lexer": "ipython3",
   "version": "3.9.7"
  }
 },
 "nbformat": 4,
 "nbformat_minor": 5
}
