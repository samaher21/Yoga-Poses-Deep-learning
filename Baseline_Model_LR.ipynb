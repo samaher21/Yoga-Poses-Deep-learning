{
 "cells": [
  {
   "cell_type": "markdown",
   "id": "49d3a3e8",
   "metadata": {},
   "source": [
    "## Setup\n",
    "- Importing libraries and packages"
   ]
  },
  {
   "cell_type": "code",
   "execution_count": null,
   "id": "ed9f77f3",
   "metadata": {},
   "outputs": [],
   "source": [
    "import os\n",
    "import cv2\n",
    "import skimage\n",
    "import numpy                    as np\n",
    "from skimage.transform          import resize\n",
    "from sklearn.linear_model       import LogisticRegression\n",
    "from sklearn.model_selection    import train_test_split\n"
   ]
  },
  {
   "cell_type": "markdown",
   "id": "7f3506f9",
   "metadata": {},
   "source": [
    "## Baseline Model\n",
    "### - Logistic Regression"
   ]
  },
  {
   "cell_type": "code",
   "execution_count": 1,
   "id": "0212c0d8",
   "metadata": {},
   "outputs": [],
   "source": [
    "batch_size = 64\n",
    "imageSize = 64\n",
    "target_dims = (imageSize, imageSize, 3)\n",
    "num_classes = 5\n",
    "train_len = 3393\n",
    "train_dir = 'yoga_poses/dataset/yoga_set1/train/'"
   ]
  },
  {
   "cell_type": "code",
   "execution_count": 2,
   "id": "622ed600",
   "metadata": {},
   "outputs": [
    {
     "name": "stderr",
     "output_type": "stream",
     "text": [
      "/var/folders/cq/s_bs9nmn2y12ltcwydm78mpr0000gn/T/ipykernel_37040/3878574998.py:6: DeprecationWarning: `np.int` is a deprecated alias for the builtin `int`. To silence this warning, use `int` by itself. Doing this will not modify any behavior and is safe. When replacing `np.int`, you may wish to use e.g. `np.int64` or `np.int32` to specify the precision. If you wish to review your current use, check the release note link for additional information.\n",
      "Deprecated in NumPy 1.20; for more details and guidance: https://numpy.org/devdocs/release/1.20.0-notes.html#deprecations\n",
      "  y = np.empty((train_len,), dtype=np.int)\n",
      "Premature end of JPEG file\n",
      "Corrupt JPEG data: premature end of data segment\n"
     ]
    }
   ],
   "source": [
    "def get_data(folder):\n",
    "    X = np.empty((train_len, imageSize, imageSize, 3), dtype=np.float32)\n",
    "    y = np.empty((train_len,), dtype=np.int)\n",
    "    cnt = 0\n",
    "    for folderName in os.listdir(folder):\n",
    "        if not folderName.startswith('.'):\n",
    "            if folderName in ['downdog']:\n",
    "                label = 0\n",
    "            elif folderName in ['godess']:\n",
    "                label = 1\n",
    "            elif folderName in ['mountain']:\n",
    "                label = 2\n",
    "            elif folderName in ['tree']:\n",
    "                label = 3\n",
    "            elif folderName in ['warrior1']:\n",
    "                label = 4\n",
    "            else:\n",
    "                label = 5\n",
    "            for image_filename in os.listdir(folder + folderName):\n",
    "                img_file = cv2.imread(folder + folderName + '/' + image_filename)\n",
    "                if img_file is not None:\n",
    "                    img_file = skimage.transform.resize(img_file, (imageSize, imageSize, 3))\n",
    "                    img_arr = np.asarray(img_file).reshape((-1, imageSize, imageSize, 3))\n",
    "                    X[cnt] = img_arr\n",
    "                    y[cnt] = label\n",
    "                    cnt += 1\n",
    "    return X,y\n",
    "\n",
    "X, y = get_data(train_dir)"
   ]
  },
  {
   "cell_type": "code",
   "execution_count": 3,
   "id": "d91ff872",
   "metadata": {},
   "outputs": [
    {
     "data": {
      "text/plain": [
       "(3393, 12288)"
      ]
     },
     "execution_count": 3,
     "metadata": {},
     "output_type": "execute_result"
    }
   ],
   "source": [
    "#---- Reshape size of X \n",
    "X.shape\n",
    "X = X.reshape(3393, 64*64*3)\n",
    "X.shape"
   ]
  },
  {
   "cell_type": "code",
   "execution_count": 5,
   "id": "7b8b2ac7",
   "metadata": {},
   "outputs": [],
   "source": [
    "#---- split the dataset\n",
    "X_train, X_test, y_train, y_test = train_test_split(X, y, test_size=0.2, random_state=1)\n",
    "\n",
    "X_train, X_val, y_train, y_val = train_test_split(X_train, y_train, test_size=0.25, random_state=1)"
   ]
  },
  {
   "cell_type": "code",
   "execution_count": 10,
   "id": "9784a5d2",
   "metadata": {},
   "outputs": [
    {
     "name": "stderr",
     "output_type": "stream",
     "text": [
      "/Users/saeed/opt/anaconda3/lib/python3.9/site-packages/sklearn/svm/_base.py:985: ConvergenceWarning: Liblinear failed to converge, increase the number of iterations.\n",
      "  warnings.warn(\"Liblinear failed to converge, increase \"\n"
     ]
    },
    {
     "name": "stdout",
     "output_type": "stream",
     "text": [
      "Logistic Regression Model, Accuracy (Train Set) :  0.7641277641277642\n",
      "Logistic Regression Model, Accuracy (Test Set) :  0.7982326951399117\n"
     ]
    },
    {
     "name": "stderr",
     "output_type": "stream",
     "text": [
      "/Users/saeed/opt/anaconda3/lib/python3.9/site-packages/sklearn/svm/_base.py:985: ConvergenceWarning: Liblinear failed to converge, increase the number of iterations.\n",
      "  warnings.warn(\"Liblinear failed to converge, increase \"\n"
     ]
    }
   ],
   "source": [
    "lr = LogisticRegression(multi_class='ovr', solver='liblinear', max_iter=15)\n",
    "\n",
    "lr.fit(X_train,y_train)\n",
    "accuracy_train_bes = lr.score(X_train, y_train)  \n",
    "print(\"Logistic Regression Model, Accuracy (Train Set) : \", accuracy_train_bes) # get accuracy on train set\n",
    "\n",
    "lr.fit(X_test,y_test)\n",
    "accuracy_test_bes = lr.score(X_test, y_test)  \n",
    "print(\"Logistic Regression Model, Accuracy (Test Set) : \", accuracy_test_bes) # get accuracy on test set"
   ]
  },
  {
   "cell_type": "code",
   "execution_count": null,
   "id": "fa30925a",
   "metadata": {},
   "outputs": [],
   "source": []
  }
 ],
 "metadata": {
  "kernelspec": {
   "display_name": "Python 3 (ipykernel)",
   "language": "python",
   "name": "python3"
  },
  "language_info": {
   "codemirror_mode": {
    "name": "ipython",
    "version": 3
   },
   "file_extension": ".py",
   "mimetype": "text/x-python",
   "name": "python",
   "nbconvert_exporter": "python",
   "pygments_lexer": "ipython3",
   "version": "3.9.7"
  }
 },
 "nbformat": 4,
 "nbformat_minor": 5
}
